{
 "cells": [
  {
   "cell_type": "markdown",
   "metadata": {},
   "source": [
    "##### Nesse projeto utilizaremos python e ML com regressão linear para prever os preços das ações "
   ]
  },
  {
   "cell_type": "code",
   "execution_count": 1,
   "metadata": {},
   "outputs": [],
   "source": [
    "import numpy as np \n",
    "import pandas as pd \n",
    "from sklearn import preprocessing \n",
    "from sklearn.model_selection import train_test_split\n",
    "from sklearn.linear_model import LinearRegression "
   ]
  },
  {
   "cell_type": "markdown",
   "metadata": {},
   "source": [
    "#### Depois de importar as bibliotecas necessárias, vamos criar uma função que possa facilitar a utilização do modelo de Regressão Linear "
   ]
  },
  {
   "cell_type": "code",
   "execution_count": 2,
   "metadata": {},
   "outputs": [],
   "source": [
    "def prepare_data(df, forecast_col, forecast_out, test_size):\n",
    "    label = df[forecast_col].shift(-forecast_out) # Criando uma nova coluna 'label' com as últimas 5 linhas NAN\n",
    "    X = np.array(df[[forecast_col]]) #criando a matriz de recursos \n",
    "    X = preprocessing.scale(X) # Processando a matriz \n",
    "    X_lately = X[-forecast_out:] #será utilizado mais tarde no método de previsão\n",
    "    X = X[:-forecast_out] # X conterá o treinamento e o teste \n",
    "    label.dropna(inplace=True) #drop de valores \n",
    "    y = np.array(label) # Atribuindo a Y\n",
    "    X_train, X_test, Y_train, Y_test = train_test_split(X,y, test_size=test_size, random_state=42) #Cross validation\n",
    "\n",
    "    response = [X_train, X_test, Y_train, Y_test, X_lately]\n",
    "    return response"
   ]
  },
  {
   "cell_type": "markdown",
   "metadata": {},
   "source": [
    "##### link para conseguir baixar os dados historicos \n",
    "\n",
    "https://finance.yahoo.com/quote/GOOG/history?period1=1507075200&period2=1664841600&interval=1d&filter=history&frequency=1d&includeAdjustedClose=true"
   ]
  },
  {
   "cell_type": "code",
   "execution_count": 6,
   "metadata": {},
   "outputs": [
    {
     "data": {
      "text/html": [
       "<div>\n",
       "<style scoped>\n",
       "    .dataframe tbody tr th:only-of-type {\n",
       "        vertical-align: middle;\n",
       "    }\n",
       "\n",
       "    .dataframe tbody tr th {\n",
       "        vertical-align: top;\n",
       "    }\n",
       "\n",
       "    .dataframe thead th {\n",
       "        text-align: right;\n",
       "    }\n",
       "</style>\n",
       "<table border=\"1\" class=\"dataframe\">\n",
       "  <thead>\n",
       "    <tr style=\"text-align: right;\">\n",
       "      <th></th>\n",
       "      <th>Date</th>\n",
       "      <th>Open</th>\n",
       "      <th>High</th>\n",
       "      <th>Low</th>\n",
       "      <th>Close</th>\n",
       "      <th>Adj Close</th>\n",
       "      <th>Volume</th>\n",
       "    </tr>\n",
       "  </thead>\n",
       "  <tbody>\n",
       "    <tr>\n",
       "      <th>1253</th>\n",
       "      <td>2022-09-27</td>\n",
       "      <td>99.910004</td>\n",
       "      <td>100.459999</td>\n",
       "      <td>97.339996</td>\n",
       "      <td>98.089996</td>\n",
       "      <td>98.089996</td>\n",
       "      <td>24225000</td>\n",
       "    </tr>\n",
       "    <tr>\n",
       "      <th>1254</th>\n",
       "      <td>2022-09-28</td>\n",
       "      <td>98.019997</td>\n",
       "      <td>101.400002</td>\n",
       "      <td>97.800003</td>\n",
       "      <td>100.739998</td>\n",
       "      <td>100.739998</td>\n",
       "      <td>24617000</td>\n",
       "    </tr>\n",
       "    <tr>\n",
       "      <th>1255</th>\n",
       "      <td>2022-09-29</td>\n",
       "      <td>99.300003</td>\n",
       "      <td>99.300003</td>\n",
       "      <td>96.519997</td>\n",
       "      <td>98.089996</td>\n",
       "      <td>98.089996</td>\n",
       "      <td>21921500</td>\n",
       "    </tr>\n",
       "    <tr>\n",
       "      <th>1256</th>\n",
       "      <td>2022-09-30</td>\n",
       "      <td>97.730003</td>\n",
       "      <td>99.494003</td>\n",
       "      <td>96.029999</td>\n",
       "      <td>96.150002</td>\n",
       "      <td>96.150002</td>\n",
       "      <td>26248200</td>\n",
       "    </tr>\n",
       "    <tr>\n",
       "      <th>1257</th>\n",
       "      <td>2022-10-03</td>\n",
       "      <td>97.220001</td>\n",
       "      <td>99.970001</td>\n",
       "      <td>97.019997</td>\n",
       "      <td>99.300003</td>\n",
       "      <td>99.300003</td>\n",
       "      <td>24840000</td>\n",
       "    </tr>\n",
       "  </tbody>\n",
       "</table>\n",
       "</div>"
      ],
      "text/plain": [
       "            Date       Open        High        Low       Close   Adj Close  \\\n",
       "1253  2022-09-27  99.910004  100.459999  97.339996   98.089996   98.089996   \n",
       "1254  2022-09-28  98.019997  101.400002  97.800003  100.739998  100.739998   \n",
       "1255  2022-09-29  99.300003   99.300003  96.519997   98.089996   98.089996   \n",
       "1256  2022-09-30  97.730003   99.494003  96.029999   96.150002   96.150002   \n",
       "1257  2022-10-03  97.220001   99.970001  97.019997   99.300003   99.300003   \n",
       "\n",
       "        Volume  \n",
       "1253  24225000  \n",
       "1254  24617000  \n",
       "1255  21921500  \n",
       "1256  26248200  \n",
       "1257  24840000  "
      ]
     },
     "execution_count": 6,
     "metadata": {},
     "output_type": "execute_result"
    }
   ],
   "source": [
    "df = pd.read_csv('GOOG.csv')\n",
    "df.tail()"
   ]
  },
  {
   "cell_type": "markdown",
   "metadata": {},
   "source": [
    "##### Declarando as variaveis de entrada para a função já criada"
   ]
  },
  {
   "cell_type": "code",
   "execution_count": 9,
   "metadata": {},
   "outputs": [],
   "source": [
    "forecast_col = 'Close'\n",
    "forecast_out = 5 \n",
    "test_size = 0.2 "
   ]
  },
  {
   "cell_type": "markdown",
   "metadata": {},
   "source": [
    "##### Aplicação de Machine Learning para Previsão de Preço\n",
    "Agora vou dividir os dados e me encaixar no modelo de regressão linear:\n",
    "\n",
    "\n"
   ]
  },
  {
   "cell_type": "code",
   "execution_count": 11,
   "metadata": {},
   "outputs": [
    {
     "data": {
      "text/plain": [
       "LinearRegression()"
      ]
     },
     "execution_count": 11,
     "metadata": {},
     "output_type": "execute_result"
    }
   ],
   "source": [
    "X_train, X_test, Y_train, Y_test , X_lately =prepare_data(df,forecast_col,forecast_out,test_size); \n",
    "learner = LinearRegression() #iIniciando a regressão linear \n",
    "\n",
    "learner.fit(X_train,Y_train) #training the linear regression model"
   ]
  },
  {
   "cell_type": "code",
   "execution_count": 13,
   "metadata": {},
   "outputs": [
    {
     "name": "stdout",
     "output_type": "stream",
     "text": [
      "{'test_score': 0.9883947145608907, 'forecast_set': array([ 98.18992178, 100.81959645,  98.18992178,  96.26480887,\n",
      "        99.3906472 ])}\n"
     ]
    }
   ],
   "source": [
    "score = learner.score(X_test, Y_test) #testando o modelo de regressão linear\n",
    "forecast = learner.predict(X_lately) # set que conterá os dados previstos\n",
    "response ={} # cria um objeto JSON\n",
    "response['test_score']= score\n",
    "response['forecast_set'] = forecast\n",
    "\n",
    "print(response)"
   ]
  },
  {
   "cell_type": "markdown",
   "metadata": {},
   "source": [
    "Assim que podemos prever os preços das ações com ML usando Python implementando o modelo de Regressão Linear."
   ]
  }
 ],
 "metadata": {
  "kernelspec": {
   "display_name": "Python 3.9.7 ('base')",
   "language": "python",
   "name": "python3"
  },
  "language_info": {
   "codemirror_mode": {
    "name": "ipython",
    "version": 3
   },
   "file_extension": ".py",
   "mimetype": "text/x-python",
   "name": "python",
   "nbconvert_exporter": "python",
   "pygments_lexer": "ipython3",
   "version": "3.9.7"
  },
  "orig_nbformat": 4,
  "vscode": {
   "interpreter": {
    "hash": "471ee6c89c83e3c7520a60f9a106588eda1f0ced6f8216612215bb9e43abcffc"
   }
  }
 },
 "nbformat": 4,
 "nbformat_minor": 2
}
